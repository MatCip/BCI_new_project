{
 "cells": [
  {
   "cell_type": "code",
   "execution_count": null,
   "metadata": {},
   "outputs": [],
   "source": [
    "import pickle\n",
    "import scipy.io as sio\n",
    "import matplotlib.pyplot as plt\n",
    "import numpy as np\n",
    "from sklearn import linear_model, neighbors, datasets\n",
    "from sklearn import svm\n",
    "import scipy.signal as signal\n",
    "import numpy as np\n",
    "from sklearn import svm\n",
    "from sklearn.feature_selection import SelectKBest\n",
    "from sklearn.feature_selection import f_classif\n",
    "from sklearn.model_selection import LeavePOut\n",
    "from sklearn.preprocessing import StandardScaler\n",
    "import sys\n",
    "import time\n",
    "import os\n",
    "import math\n",
    "\n",
    "import shutil\n",
    "from sklearn.externals import joblib\n",
    "import warnings\n",
    "\n",
    "warnings.filterwarnings(\"ignore\", category=DeprecationWarning)\n",
    "warnings.filterwarnings(\"ignore\", category=FutureWarning)\n",
    "from sklearn.preprocessing import OneHotEncoder\n",
    "from sklearn.preprocessing import MinMaxScaler\n",
    "\n",
    "import pandas as pd\n",
    "import numpy as np\n",
    "import pickle as pk\n",
    "import sys\n",
    "from sklearn.preprocessing import OneHotEncoder\n",
    "from sklearn.preprocessing import MinMaxScaler\n",
    "from sklearn.metrics import f1_score\n",
    "\n",
    "import keras as ke\n",
    "from keras.models import Sequential, load_model\n",
    "from keras.layers import Dense, Conv2D, UpSampling2D,Conv2DTranspose,ZeroPadding2D,MaxPooling1D,MaxPooling2D, CuDNNLSTM, Dropout, Reshape, PReLU, ELU, BatchNormalization, Flatten\n",
    "from keras import optimizers\n",
    "from keras import initializers\n",
    "from keras.callbacks import ReduceLROnPlateau, CSVLogger, ModelCheckpoint\n",
    "from keras.utils import to_categorical\n",
    "from utilities import *\n",
    "from test_pipeline_matrix import test_features"
   ]
  },
  {
   "cell_type": "markdown",
   "metadata": {},
   "source": [
    "# Autoencoder"
   ]
  },
  {
   "cell_type": "code",
   "execution_count": null,
   "metadata": {},
   "outputs": [],
   "source": [
    "# parameters\n",
    "window_size = 900\n",
    "step_size=50\n",
    "num_channels=5\n",
    "num_of_features=200\n",
    "\n",
    "# INPUT FOLDER\n",
    "path='input/'\n",
    "\n",
    "#INPUT SUBFOLDERS (IF PRESENT) ( ex: day1, day2 ..)\n",
    "autoenconder_data=['']\n",
    "\n"
   ]
  },
  {
   "cell_type": "code",
   "execution_count": null,
   "metadata": {},
   "outputs": [],
   "source": [
    "# prepare data for autoencoder\n",
    "train_data=get_autoencoder_data(path,autoenconder_data,num_channels,window_size,step_size)\n",
    "reshaped_train=train_data;"
   ]
  },
  {
   "cell_type": "code",
   "execution_count": null,
   "metadata": {},
   "outputs": [],
   "source": [
    "size_of_kernel_1= (5,2)\n",
    "size_of_kernel_2= (9,1)\n",
    "\n",
    "kernel_strides = 1\n",
    "num_filters = 4\n",
    "\n",
    "dropout_prob = 0.5\n",
    "inputshape = (window_size, num_channels, 1)\n",
    "\n",
    "# BUILDING MODEL USING KERAS AND TENSORFLOW BACKEND\n",
    "print('Building Model...')\n",
    "model = Sequential()\n",
    "\n",
    "model.add(Conv2D(num_filters, kernel_size=size_of_kernel_1, strides=kernel_strides,\n",
    "                 activation='relu', input_shape=inputshape, name='1_conv_layer'))\n",
    "\n",
    "model.add(Conv2D(num_filters, kernel_size=size_of_kernel_2, strides=kernel_strides,\n",
    "                 activation='relu', input_shape=inputshape, name='2_conv_layer'))\n",
    "conv_1_shape=model.get_layer(name='1_conv_layer').output_shape\n",
    "conv_2_shape=model.get_layer(name='2_conv_layer').output_shape\n",
    "\n",
    "\n",
    "\n",
    "model.add(MaxPooling2D(pool_size=(4, 2), strides=None, padding='valid', data_format=None,name='max_pooling_1'))\n",
    "model.add(MaxPooling2D(pool_size=(2, 1), strides=None, padding='valid', data_format=None,name='max_pooling_2'))\n",
    "max_pool_1_shape=model.get_layer(name='max_pooling_1').output_shape\n",
    "max_pool_2_shape=model.get_layer(name='max_pooling_2').output_shape\n",
    "\n",
    "print(max_pool_1_shape)\n",
    "print(conv_1_shape)\n",
    "print(conv_2_shape)\n",
    "#\n",
    "model.add(Flatten(name='flatten'))\n",
    "\n",
    "model.add(Dense(num_of_features, activation='relu', name='dense_layer_encode1'))\n",
    "\n",
    "#decoding\n",
    "flatten=model.get_layer(name='flatten')\n",
    "model.add(Dense(flatten.output_shape[1], activation='relu', name='dense_layer_decode1'))\n",
    "\n",
    "model.add(Reshape((max_pool_2_shape[1],max_pool_2_shape[2],max_pool_2_shape[3])))\n",
    "model.add(UpSampling2D(size=(2,1), data_format=None))\n",
    "model.add(UpSampling2D(size=(4,2), data_format=None))\n",
    "model.add(Conv2DTranspose(4, (9,1), strides=1, padding='valid',  activation='relu', kernel_initializer='glorot_uniform', kernel_regularizer=None, bias_regularizer=None, activity_regularizer=None, kernel_constraint=None, bias_constraint=None))\n",
    "model.add(Conv2DTranspose(1, (5,2), strides=1, padding='valid',  activation='relu', kernel_initializer='glorot_uniform', kernel_regularizer=None, bias_regularizer=None, activity_regularizer=None, kernel_constraint=None, bias_constraint=None))\n",
    "\n",
    "\n",
    "Adam=optimizers.Adam(lr=0.001)\n",
    "model.compile(loss='mean_squared_error', optimizer=Adam, metrics=['accuracy'])\n",
    "\n",
    "\n",
    "print(model.summary())"
   ]
  },
  {
   "cell_type": "code",
   "execution_count": null,
   "metadata": {},
   "outputs": [],
   "source": [
    "batchSize = 50\n",
    "train_epoches = 30\n",
    "model.fit(reshaped_train,reshaped_train,epochs=train_epoches,batch_size=batchSize,verbose=1)\n",
    "model.save('autoencoder_highpass.h5')"
   ]
  },
  {
   "cell_type": "code",
   "execution_count": null,
   "metadata": {},
   "outputs": [],
   "source": [
    "from keras.models import load_model\n",
    "\n",
    "model = load_model('autoencoder_highpass.h5')"
   ]
  },
  {
   "cell_type": "markdown",
   "metadata": {},
   "source": [
    "# Day1"
   ]
  },
  {
   "cell_type": "code",
   "execution_count": null,
   "metadata": {},
   "outputs": [],
   "source": [
    "# loading samples\n",
    "\n",
    "path='input/'\n",
    "train_data_name=''\n",
    "[data_matrix,labels]=get_data(path+train_data_name,num_channels,window_size,step_size)\n",
    "\n",
    "\n",
    "print(data_matrix.shape)\n",
    "reshaped_data_matrix = data_matrix.reshape(data_matrix.shape[0], int(window_size), num_channels, 1)\n",
    "\n",
    "from keras.models import Model\n",
    "layer_name = 'dense_layer_encode1'\n",
    "intermediate_layer_model = Model(inputs=model.input,\n",
    "                                 outputs=model.get_layer(layer_name).output)\n",
    "\n",
    "intermediate_output = intermediate_layer_model.predict(reshaped_data_matrix)\n",
    "\n",
    "print('Feature Matrix of shape:')\n",
    "print(intermediate_output.shape)"
   ]
  },
  {
   "cell_type": "code",
   "execution_count": null,
   "metadata": {},
   "outputs": [],
   "source": [
    "test_features(intermediate_output, \n",
    "              labels, day='day label', visit='visit label', patient='patient label', train_step=500)"
   ]
  },
  {
   "cell_type": "code",
   "execution_count": null,
   "metadata": {},
   "outputs": [],
   "source": [
    "#  SVM classifier\n",
    "clf = svm.SVC(C = 1, kernel = 'linear', gamma = 'auto')\n",
    "Model_Name='SVM_classifier_1'\n",
    "labels=labels.reshape(len(labels),)\n",
    "performance_assesment_fraction_std(intermediate_output, labels, 3, clf,Model_Name)"
   ]
  },
  {
   "cell_type": "markdown",
   "metadata": {},
   "source": [
    "# Day2\n"
   ]
  },
  {
   "cell_type": "code",
   "execution_count": null,
   "metadata": {},
   "outputs": [],
   "source": [
    "train_data_name='/day2'\n",
    "[data_matrix,labels]=get_data(path+train_data_name,num_channels)\n",
    "\n",
    "\n",
    "print(data_matrix.shape)\n",
    "reshaped_data_matrix = data_matrix.reshape(data_matrix.shape[0], int(window_size), num_channels, 1)\n",
    "\n",
    "from keras.models import Model\n",
    "layer_name = 'dense_layer_encode1'\n",
    "intermediate_layer_model = Model(inputs=model.input,\n",
    "                                 outputs=model.get_layer(layer_name).output)\n",
    "\n",
    "intermediate_output = intermediate_layer_model.predict(reshaped_data_matrix)\n",
    "\n",
    "\n",
    "print(intermediate_output.shape)\n",
    "\n",
    "#  SVM classifier\n",
    "\n",
    "clf = svm.SVC(C = 1, kernel = 'linear', gamma = 'auto')\n",
    "Model_Name='SVM_classifier_2'\n",
    "labels=labels.reshape(len(labels),)\n",
    "performance_assesment_fraction_std(intermediate_output, labels, 3, clf,Model_Name)"
   ]
  },
  {
   "cell_type": "markdown",
   "metadata": {},
   "source": [
    "# Day 3"
   ]
  },
  {
   "cell_type": "code",
   "execution_count": null,
   "metadata": {},
   "outputs": [],
   "source": [
    "train_data_name='/day3'\n",
    "[data_matrix,labels]=get_data(path+train_data_name,num_channels)\n",
    "\n",
    "\n",
    "print(data_matrix.shape)\n",
    "reshaped_data_matrix = data_matrix.reshape(data_matrix.shape[0], int(window_size), num_channels, 1)\n",
    "\n",
    "from keras.models import Model\n",
    "layer_name = 'dense_layer_encode1'\n",
    "intermediate_layer_model = Model(inputs=model.input,\n",
    "                                 outputs=model.get_layer(layer_name).output)\n",
    "\n",
    "intermediate_output = intermediate_layer_model.predict(reshaped_data_matrix)\n",
    "\n",
    "\n",
    "print(intermediate_output.shape)\n",
    "\n",
    "#  SVM classifier\n",
    "\n",
    "clf = svm.SVC(C = 1, kernel = 'linear', gamma = 'auto')\n",
    "Model_Name='SVM_classifier_3'\n",
    "labels=labels.reshape(len(labels),)\n",
    "performance_assesment_fraction_std(intermediate_output, labels, 3, clf,Model_Name)"
   ]
  },
  {
   "cell_type": "markdown",
   "metadata": {},
   "source": [
    "# Day 4"
   ]
  },
  {
   "cell_type": "code",
   "execution_count": null,
   "metadata": {},
   "outputs": [],
   "source": [
    "train_data_name='/day4'\n",
    "[data_matrix,labels]=get_data(path+train_data_name,num_channels)\n",
    "\n",
    "\n",
    "print(data_matrix.shape)\n",
    "reshaped_data_matrix = data_matrix.reshape(data_matrix.shape[0], int(window_size), num_channels, 1)\n",
    "\n",
    "from keras.models import Model\n",
    "layer_name = 'dense_layer_encode1'\n",
    "intermediate_layer_model = Model(inputs=model.input,\n",
    "                                 outputs=model.get_layer(layer_name).output)\n",
    "\n",
    "intermediate_output = intermediate_layer_model.predict(reshaped_data_matrix)\n",
    "\n",
    "\n",
    "print(intermediate_output.shape)\n",
    "\n",
    "#  SVM classifier\n",
    "\n",
    "clf = svm.SVC(C = 1, kernel = 'linear', gamma = 'auto')\n",
    "Model_Name='SVM_classifier_4'\n",
    "labels=labels.reshape(len(labels),)\n",
    "performance_assesment_fraction_std(intermediate_output, labels, 3, clf,Model_Name)"
   ]
  },
  {
   "cell_type": "code",
   "execution_count": null,
   "metadata": {},
   "outputs": [],
   "source": []
  },
  {
   "cell_type": "markdown",
   "metadata": {},
   "source": [
    "# Day 5"
   ]
  },
  {
   "cell_type": "code",
   "execution_count": null,
   "metadata": {},
   "outputs": [],
   "source": [
    "train_data_name='/day5'\n",
    "[data_matrix,labels]=get_data(path+train_data_name,num_channels)\n",
    "\n",
    "\n",
    "print(data_matrix.shape)\n",
    "reshaped_data_matrix = data_matrix.reshape(data_matrix.shape[0], int(window_size), num_channels, 1)\n",
    "\n",
    "from keras.models import Model\n",
    "layer_name = 'dense_layer_encode1'\n",
    "intermediate_layer_model = Model(inputs=model.input,\n",
    "                                 outputs=model.get_layer(layer_name).output)\n",
    "\n",
    "intermediate_output = intermediate_layer_model.predict(reshaped_data_matrix)\n",
    "\n",
    "\n",
    "print(intermediate_output.shape)\n",
    "\n",
    "#  SVM classifier\n",
    "\n",
    "clf = svm.SVC(C = 1, kernel = 'linear', gamma = 'auto')\n",
    "Model_Name='SVM_classifier_5'\n",
    "labels=labels.reshape(len(labels),)\n",
    "performance_assesment_fraction_std(intermediate_output, labels, 3, clf,Model_Name)"
   ]
  },
  {
   "cell_type": "code",
   "execution_count": null,
   "metadata": {},
   "outputs": [],
   "source": []
  },
  {
   "cell_type": "markdown",
   "metadata": {},
   "source": [
    "# Day 6"
   ]
  },
  {
   "cell_type": "code",
   "execution_count": null,
   "metadata": {},
   "outputs": [],
   "source": [
    "train_data_name='/day6'\n",
    "[data_matrix,labels]=get_data(path+train_data_name,num_channels)\n",
    "\n",
    "\n",
    "print(data_matrix.shape)\n",
    "reshaped_data_matrix = data_matrix.reshape(data_matrix.shape[0], int(window_size), num_channels, 1)\n",
    "\n",
    "from keras.models import Model\n",
    "layer_name = 'dense_layer_encode1'\n",
    "intermediate_layer_model = Model(inputs=model.input,\n",
    "                                 outputs=model.get_layer(layer_name).output)\n",
    "\n",
    "intermediate_output = intermediate_layer_model.predict(reshaped_data_matrix)\n",
    "\n",
    "\n",
    "print(intermediate_output.shape)\n",
    "\n",
    "#  SVM classifier\n",
    "\n",
    "clf = svm.SVC(C = 1, kernel = 'linear', gamma = 'auto')\n",
    "Model_Name='SVM_classifier_1'\n",
    "labels=labels.reshape(len(labels),)\n",
    "performance_assesment_fraction_std(intermediate_output, labels, 3, clf,Model_Name)"
   ]
  },
  {
   "cell_type": "markdown",
   "metadata": {},
   "source": [
    "# Processing Pipeline"
   ]
  },
  {
   "cell_type": "code",
   "execution_count": null,
   "metadata": {},
   "outputs": [],
   "source": []
  }
 ],
 "metadata": {
  "kernelspec": {
   "display_name": "Python 3",
   "language": "python",
   "name": "python3"
  },
  "language_info": {
   "codemirror_mode": {
    "name": "ipython",
    "version": 3
   },
   "file_extension": ".py",
   "mimetype": "text/x-python",
   "name": "python",
   "nbconvert_exporter": "python",
   "pygments_lexer": "ipython3",
   "version": "3.5.5"
  }
 },
 "nbformat": 4,
 "nbformat_minor": 2
}
